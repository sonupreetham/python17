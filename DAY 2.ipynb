{
 "cells": [
  {
   "cell_type": "code",
   "execution_count": 3,
   "metadata": {},
   "outputs": [
    {
     "name": "stdout",
     "output_type": "stream",
     "text": [
      "1 2 3 4 6 12 "
     ]
    }
   ],
   "source": [
    "#Find the factors of a given number\n",
    "# --> 1 2 3 4 6 12\n",
    "def factorslist(n):\n",
    "    for i in range(1,n+1):\n",
    "        if n % i == 0:\n",
    "             print(i,end=\" \")\n",
    "    return\n",
    "factorslist(12)"
   ]
  },
  {
   "cell_type": "code",
   "execution_count": 5,
   "metadata": {},
   "outputs": [
    {
     "data": {
      "text/plain": [
       "True"
      ]
     },
     "execution_count": 5,
     "metadata": {},
     "output_type": "execute_result"
    }
   ],
   "source": [
    "#given number is prime number or not\n",
    "def isPrime(n):\n",
    "    flag = True\n",
    "    for i in range(2,n//2+1):\n",
    "        if n % i == 0:\n",
    "            flag = false\n",
    "            return flag\n",
    "    return flag\n",
    "isPrime(7)\n"
   ]
  },
  {
   "cell_type": "code",
   "execution_count": 16,
   "metadata": {},
   "outputs": [
    {
     "data": {
      "text/plain": [
       "8"
      ]
     },
     "execution_count": 16,
     "metadata": {},
     "output_type": "execute_result"
    }
   ],
   "source": [
    "# Function to find prime numbers count from 1 to N\n",
    "# 10 -- 4(2,3,5,7)\n",
    "def primenumbers(n):\n",
    "    cnt = 0\n",
    "    for a in range(2,n+1):\n",
    "        k = 0\n",
    "        for i in range(2,a//2+1):\n",
    "            if a % i == 0:\n",
    "                k = k + 1\n",
    "        if(k<=0):\n",
    "            cnt = cnt + 1\n",
    "    return cnt  \n",
    "primenumbers(20)"
   ]
  },
  {
   "cell_type": "code",
   "execution_count": 21,
   "metadata": {},
   "outputs": [
    {
     "name": "stdout",
     "output_type": "stream",
     "text": [
      "yes\n",
      "no\n"
     ]
    }
   ],
   "source": [
    "# induvidual digit factorial sum is same as original number \n",
    "# example:-\n",
    "#145 -- yes(5! + 2! + 1! = 145)\n",
    "#123 --ni(3! + 2! 1! = 9)\n",
    "def factorial(n):\n",
    "    fact = 1\n",
    "    for i in range(2,n+1):\n",
    "        fact *= i\n",
    "    return fact\n",
    "def digitfactsum(n):\n",
    "    sum = 0\n",
    "    buffer = n\n",
    "    while n != 0:\n",
    "        r = n % 10\n",
    "        sum += factorial(r)\n",
    "        n = n // 10\n",
    "    if sum == buffer:\n",
    "        return \"yes\" \n",
    "    else:\n",
    "        return \"no\"\n",
    "    return\n",
    "print(digitfactsum(145))\n",
    "print(digitfactsum(123))"
   ]
  },
  {
   "cell_type": "code",
   "execution_count": 34,
   "metadata": {},
   "outputs": [],
   "source": [
    "# function to return the count of palindrome numbers to limit \n",
    "# input: 1 10\n",
    "#output :9(1,2,3,4,5,6,7,8,9)\n",
    "\n",
    "# input : 11 100\n",
    "# output :9(11,22,33)"
   ]
  },
  {
   "cell_type": "code",
   "execution_count": 22,
   "metadata": {},
   "outputs": [
    {
     "name": "stdout",
     "output_type": "stream",
     "text": [
      "p\n",
      "y\n",
      "n\n",
      "n\n"
     ]
    }
   ],
   "source": [
    "s1 = 'python'\n",
    "print(s1[0]) # Access the first character\n",
    "print(s1[1]) # Access the second character\n",
    "print(s1[5]) # Access the last character\n",
    "print(s1[len(s1)-1]) # Access the last character"
   ]
  },
  {
   "cell_type": "code",
   "execution_count": 23,
   "metadata": {},
   "outputs": [
    {
     "name": "stdout",
     "output_type": "stream",
     "text": [
      "n\n",
      "o\n",
      "py\n",
      "py\n",
      "hon\n",
      "thon\n"
     ]
    }
   ],
   "source": [
    "print(s1[-1]) #Another way access the last character\n",
    "print(s1[-2]) #Another way to access the last second character\n",
    "print(s1[0:2]) #Accesss the first character\n",
    "print(s1[:2]) #Access the first characters\n",
    "print(s1[-3:]) #Last three characters\n",
    "print(s1[2:]) #From second character to last character"
   ]
  },
  {
   "cell_type": "code",
   "execution_count": 31,
   "metadata": {},
   "outputs": [
    {
     "ename": "NameError",
     "evalue": "name 'reverseString' is not defined",
     "output_type": "error",
     "traceback": [
      "\u001b[1;31m---------------------------------------------------------------------------\u001b[0m",
      "\u001b[1;31mNameError\u001b[0m                                 Traceback (most recent call last)",
      "\u001b[1;32m<ipython-input-31-7b56e059a21a>\u001b[0m in \u001b[0;36m<module>\u001b[1;34m\u001b[0m\n\u001b[0;32m      1\u001b[0m \u001b[1;32mdef\u001b[0m \u001b[0mrevereString\u001b[0m\u001b[1;33m(\u001b[0m\u001b[0mstr\u001b[0m\u001b[1;33m)\u001b[0m\u001b[1;33m:\u001b[0m\u001b[1;33m\u001b[0m\u001b[1;33m\u001b[0m\u001b[0m\n\u001b[0;32m      2\u001b[0m     \u001b[1;32mreturn\u001b[0m \u001b[0mstr\u001b[0m\u001b[1;33m[\u001b[0m\u001b[1;33m-\u001b[0m\u001b[1;36m1\u001b[0m\u001b[1;33m:\u001b[0m\u001b[1;33m:\u001b[0m\u001b[1;33m-\u001b[0m\u001b[1;36m1\u001b[0m\u001b[1;33m]\u001b[0m\u001b[1;33m\u001b[0m\u001b[1;33m\u001b[0m\u001b[0m\n\u001b[1;32m----> 3\u001b[1;33m \u001b[0mreverseString\u001b[0m\u001b[1;33m(\u001b[0m\u001b[1;34m\"Programming\"\u001b[0m\u001b[1;33m)\u001b[0m\u001b[1;33m\u001b[0m\u001b[1;33m\u001b[0m\u001b[0m\n\u001b[0m",
      "\u001b[1;31mNameError\u001b[0m: name 'reverseString' is not defined"
     ]
    }
   ],
   "source": [
    "def revereString(str):\n",
    "    return str[-1::-1]\n",
    "reverseString(\"Programming\")"
   ]
  },
  {
   "cell_type": "code",
   "execution_count": 32,
   "metadata": {},
   "outputs": [
    {
     "name": "stdout",
     "output_type": "stream",
     "text": [
      "P T "
     ]
    }
   ],
   "source": [
    "#ASCII :-\n",
    "#A - Z : 65 - 90\n",
    "#a - z : 97 - 122\n",
    "#0 - 9 : 48 - 57\n",
    "#space : 32\n",
    "def printUpper(x):\n",
    "    for i in range(len(x)):\n",
    "        if ord(x[i]) >= 65 and ord(x[i]) <= 90:\n",
    "            print(x[i],end = \" \")\n",
    "    return\n",
    "printUpper(\"PyThon\")"
   ]
  },
  {
   "cell_type": "code",
   "execution_count": 33,
   "metadata": {},
   "outputs": [
    {
     "name": "stdout",
     "output_type": "stream",
     "text": [
      "False\n",
      "True\n"
     ]
    }
   ],
   "source": [
    "def isPalindrome(str):\n",
    "    if str == str[::-1]:\n",
    "        return True\n",
    "    else:\n",
    "        return False\n",
    "    return\n",
    "print(isPalindrome(\"Python\"))\n",
    "print(isPalindrome(\"ganag\"))"
   ]
  },
  {
   "cell_type": "code",
   "execution_count": 35,
   "metadata": {},
   "outputs": [
    {
     "name": "stdout",
     "output_type": "stream",
     "text": [
      "SameCount\n",
      "programming\n"
     ]
    }
   ],
   "source": [
    "\n",
    "#Function to print \"sameCount\" if the count of\n",
    "# upper and lower case is same\n",
    "# Print \"Programming\" if not same\n",
    "# Example : PyThOn -- 3 P T O (Upper case) -- sameCount\n",
    "#                     3 y h n (lower case)\n",
    "#PytHon -- P H (2)\n",
    "#       -- y t o n (4) - programming\n",
    "def findCount(str):\n",
    "   cntUpper = 0\n",
    "   cntLower = 0\n",
    "   for x in range(len(str)):\n",
    "       if ord(str[x]) >= 65 and ord(str[x]) <=90:\n",
    "           cntUpper = cntUpper + 1\n",
    "       elif ord(str[x]) >= 97 and ord(str[x]) <=122:\n",
    "           cntLower = cntLower + 1\n",
    "   if cntUpper == cntLower:\n",
    "       return \"SameCount\"\n",
    "   else:\n",
    "       return \"programming\"\n",
    "   return\n",
    "print(findCount('PyThOn'))# SameCount\n",
    "print(findCount('PytHon'))# programming\n"
   ]
  },
  {
   "cell_type": "code",
   "execution_count": 36,
   "metadata": {},
   "outputs": [
    {
     "name": "stdout",
     "output_type": "stream",
     "text": [
      "1 8 8 9 "
     ]
    },
    {
     "data": {
      "text/plain": [
       "16"
      ]
     },
     "execution_count": 36,
     "metadata": {},
     "output_type": "execute_result"
    }
   ],
   "source": [
    "# Extract digits from given string\n",
    "# Example :\n",
    "# Input : Appli1cat8ion89\n",
    "# Output : 1 8 8 9\n",
    "def extractDigits(str):\n",
    "   for x in range(len(str)):\n",
    "       if ord(str[x]) >= 48 and ord(str[x]) <= 57:\n",
    "           print(str[x],end=\" \")\n",
    "   return\n",
    "extractDigits(\"Appli1cat8ion89\") # 1 8 8 9\n",
    "# Function to return the sum of digits in a given string\n",
    "# Example :\n",
    "# Inout : Appli1cat8ion89\n",
    "# Output : 16(8+8)\n",
    "def SumOfDigits(str):\n",
    "   sum = 0\n",
    "   for x in range(len(str)):\n",
    "       if ord(str[x]) >= 48 and ord(str[x]) <= 57:\n",
    "           if (ord(str[x])-48) % 2 == 0:\n",
    "               sum = sum + (ord(str[x])-48)\n",
    "   return sum\n",
    "SumOfDigits(\"Appli1cat8ion89\") # 26"
   ]
  },
  {
   "cell_type": "code",
   "execution_count": null,
   "metadata": {},
   "outputs": [],
   "source": []
  }
 ],
 "metadata": {
  "kernelspec": {
   "display_name": "Python 3",
   "language": "python",
   "name": "python3"
  },
  "language_info": {
   "codemirror_mode": {
    "name": "ipython",
    "version": 3
   },
   "file_extension": ".py",
   "mimetype": "text/x-python",
   "name": "python",
   "nbconvert_exporter": "python",
   "pygments_lexer": "ipython3",
   "version": "3.7.3"
  }
 },
 "nbformat": 4,
 "nbformat_minor": 2
}
