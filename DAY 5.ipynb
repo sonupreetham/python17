{
 "cells": [
  {
   "cell_type": "markdown",
   "metadata": {},
   "source": [
    "\n",
    "   ### Standard librabries\n",
    "- File I/O\n",
    "- Regular Expression\n",
    "- Datetime\n",
    "- Math(Numerical and Mathematical)\n",
    "### File Handling in Python\n",
    "- File Document containing information resides on the permenant storage\n",
    "- Different types of files:- txt,doc,pdf,csv and etc.....\n",
    "- Input -- Keyboard\n",
    "- Output -- File\n",
    "### Modes of the File I/O\n",
    "- 'w' -- This mode is used to file writing\n",
    "-- If the file is not present first it creates the file and write to me data to it"
   ]
  },
  {
   "cell_type": "code",
   "execution_count": 1,
   "metadata": {},
   "outputs": [
    {
     "name": "stdout",
     "output_type": "stream",
     "text": [
      "File is created and data has written\n",
      "File is created and data has written\n"
     ]
    }
   ],
   "source": [
    "# Function to create a file and write to the file\n",
    "def createFile(filename):\n",
    "  f = open(filename,'w')\n",
    "  for i in range(10):\n",
    "      f.write('thes is %d Line ' % i)\n",
    "  print(\"File is created and data has written\")\n",
    "  return\n",
    "createFile('file.txt')\n",
    "# function to create a file and write to the file \n",
    "def createFile(filename):\n",
    "   f = open(filename,'w')\n",
    "   for i in range(10):\n",
    "       f.write('This is %d Line ' % i)\n",
    "   print(\"File is created and data has written\")\n",
    "   return\n",
    "createFile('file.txt')\n"
   ]
  },
  {
   "cell_type": "code",
   "execution_count": 2,
   "metadata": {},
   "outputs": [
    {
     "name": "stdout",
     "output_type": "stream",
     "text": [
      " Volume in drive C has no label.\n",
      " Volume Serial Number is D8E9-5A3A\n",
      "\n",
      " Directory of C:\\Users\\student\\minimum show\n",
      "\n",
      "11-07-2019  09:48    <DIR>          .\n",
      "11-07-2019  09:48    <DIR>          ..\n",
      "11-07-2019  09:43    <DIR>          .ipynb_checkpoints\n",
      "10-07-2019  16:58             2,932 assissment.ipynb\n",
      "11-07-2019  09:48               150 file.txt\n",
      "08-07-2019  09:22             3,901 Untitled.ipynb\n",
      "08-07-2019  15:46             9,618 Untitled1.ipynb\n",
      "09-07-2019  15:08             6,811 Untitled2.ipynb\n",
      "10-07-2019  10:39             7,869 Untitled3.ipynb\n",
      "11-07-2019  09:47             1,207 Untitled4.ipynb\n",
      "               7 File(s)         32,488 bytes\n",
      "               3 Dir(s)  65,133,277,184 bytes free\n"
     ]
    }
   ],
   "source": [
    "ls"
   ]
  },
  {
   "cell_type": "code",
   "execution_count": 3,
   "metadata": {},
   "outputs": [
    {
     "name": "stdout",
     "output_type": "stream",
     "text": [
      "File is created and data has written\n"
     ]
    }
   ],
   "source": [
    "# function to create a file and write to the file \n",
    "def createFile(filename):\n",
    "   f = open(filename,'w')\n",
    "   for i in range(10):\n",
    "       f.write('This is %d Line ' % i)\n",
    "   print(\"File is created and data has written\")\n",
    "   return\n",
    "createFile('file.txt')\n",
    "\n"
   ]
  },
  {
   "cell_type": "code",
   "execution_count": 4,
   "metadata": {},
   "outputs": [
    {
     "name": "stdout",
     "output_type": "stream",
     "text": [
      "File is created and data has written\n",
      "this is 0 line\n",
      "\n",
      "this is 1 line\n",
      "\n",
      "this is 2 line\n",
      "\n",
      "this is 3 line\n",
      "\n",
      "this is 4 line\n",
      "\n",
      "this is 5 line\n",
      "\n",
      "this is 6 line\n",
      "\n",
      "this is 7 line\n",
      "\n",
      "this is 8 line\n",
      "\n",
      "this is 9 line\n",
      "\n",
      "file created and succesfully data written\n"
     ]
    }
   ],
   "source": [
    "# function to create a file and write to the file \n",
    "def createFile(filename):\n",
    "   f = open(filename,'w')\n",
    "   for i in range(10):\n",
    "       f.write('This is %d Line ' % i)\n",
    "   print(\"File is created and data has written\")\n",
    "   return\n",
    "createFile('file.txt')\n",
    "def appendData(filename):\n",
    "   f = open(filename,'a')\n",
    "   for i in range(10):\n",
    "       print(\"this is %d line\\n\" % i)\n",
    "   print(\"file created and succesfully data written\")\n",
    "   return\n",
    "appendData('file2.txt')"
   ]
  },
  {
   "cell_type": "code",
   "execution_count": 6,
   "metadata": {},
   "outputs": [
    {
     "name": "stdout",
     "output_type": "stream",
     "text": [
      "Enter the file namefile2.txt\n",
      "Enter the mode of the filea\n",
      "The data successfully written\n"
     ]
    }
   ],
   "source": [
    "# Function to read the File\n",
    "def fileOperations(filename,mode):\n",
    "   with open(filename,mode) as f:\n",
    "       if f.mode == 'r':\n",
    "           data = f.read()\n",
    "           print(data)\n",
    "       elif f.mode == 'a':\n",
    "           f.write('Data to the file')\n",
    "           print('The data successfully written')\n",
    "   f.close()\n",
    "   return\n",
    "filename = input('Enter the file name')\n",
    "mode = input('Enter the mode of the file')\n",
    "fileOperations(filename,mode)\n"
   ]
  },
  {
   "cell_type": "code",
   "execution_count": 7,
   "metadata": {},
   "outputs": [
    {
     "name": "stdout",
     "output_type": "stream",
     "text": [
      "file created and succesfully data written\n"
     ]
    }
   ],
   "source": [
    "def appendData(filename):\n",
    "    f = open(filename,'a')\n",
    "    f.write(\"New line 1 \\n\")\n",
    "    f.write(\"New line 2 \\n\")\n",
    "    print(\"file created and succesfully data written\")\n",
    "    return\n",
    "appendData('file2.txt')"
   ]
  },
  {
   "cell_type": "code",
   "execution_count": 8,
   "metadata": {},
   "outputs": [
    {
     "name": "stdout",
     "output_type": "stream",
     "text": [
      "Data to the fileNew line 1 \n",
      "New line 2 \n",
      "\n"
     ]
    }
   ],
   "source": [
    "# Function to read of the file\n",
    "def readFileData(filename):\n",
    "    f = open(filename,'r')\n",
    "    if f.mode == 'r':\n",
    "        x = f.read()\n",
    "        print(x)\n",
    "    f.close()\n",
    "    return \n",
    "readFileData('file2.txt')"
   ]
  },
  {
   "cell_type": "code",
   "execution_count": 9,
   "metadata": {},
   "outputs": [
    {
     "name": "stdout",
     "output_type": "stream",
     "text": [
      "Enter the file namefile2.txt\n",
      "Enter the mode of the filea\n",
      "The data successfully written\n"
     ]
    }
   ],
   "source": [
    "# Function to read the File\n",
    "def fileOperations(filename,mode):\n",
    "    with open(filename,mode) as f:\n",
    "        if f.mode == 'r':\n",
    "            data = f.read()\n",
    "            print(data)\n",
    "        elif f.mode == 'a':\n",
    "            f.write('Data to the file')\n",
    "            print('The data successfully written')\n",
    "    f.close()\n",
    "    return\n",
    "filename = input('Enter the file name')\n",
    "mode = input('Enter the mode of the file')\n",
    "fileOperations(filename,mode)"
   ]
  },
  {
   "cell_type": "code",
   "execution_count": null,
   "metadata": {},
   "outputs": [],
   "source": []
  }
 ],
 "metadata": {
  "kernelspec": {
   "display_name": "Python 3",
   "language": "python",
   "name": "python3"
  },
  "language_info": {
   "codemirror_mode": {
    "name": "ipython",
    "version": 3
   },
   "file_extension": ".py",
   "mimetype": "text/x-python",
   "name": "python",
   "nbconvert_exporter": "python",
   "pygments_lexer": "ipython3",
   "version": "3.7.3"
  }
 },
 "nbformat": 4,
 "nbformat_minor": 2
}
