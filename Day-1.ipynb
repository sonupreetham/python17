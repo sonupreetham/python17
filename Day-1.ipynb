{
 "cells": [
  {
   "cell_type": "code",
   "execution_count": 1,
   "metadata": {},
   "outputs": [
    {
     "name": "stdout",
     "output_type": "stream",
     "text": [
      "enter number 11\n",
      "enter number 22\n",
      "enter number 33\n",
      "3 is the largest\n"
     ]
    }
   ],
   "source": [
    "#find the largest number from the given 3 numbers\n",
    "a1=int(input(\"enter number 1\"))\n",
    "a2=int(input(\"enter number 2\"))\n",
    "a3=int(input(\"enter number 3\"))\n",
    "\n",
    "if a1>a2 and a1>a3:\n",
    "        print(a1,\"is the largest\")\n",
    "elif a2>a1 and a2>a3:\n",
    "    print(a2,\"is the largest\")\n",
    "else:\n",
    "    print(a3,\"is the largest\")"
   ]
  },
  {
   "cell_type": "code",
   "execution_count": null,
   "metadata": {},
   "outputs": [],
   "source": []
  },
  {
   "cell_type": "code",
   "execution_count": 3,
   "metadata": {},
   "outputs": [
    {
     "name": "stdout",
     "output_type": "stream",
     "text": [
      "enter year2012\n",
      "leap year\n"
     ]
    }
   ],
   "source": [
    "#check if a year if leap year or  not \n",
    "year = int(input(\"enter year\"))\n",
    "if (year%100==0) or(year % 100 !=0 and year % 4 ==0):\n",
    "        print(\"leap year\")\n",
    "else:\n",
    "    print(\"not a leap year\")"
   ]
  },
  {
   "cell_type": "code",
   "execution_count": 4,
   "metadata": {},
   "outputs": [
    {
     "name": "stdout",
     "output_type": "stream",
     "text": [
      "gitam\n"
     ]
    }
   ],
   "source": [
    "print(\"gitam\")"
   ]
  },
  {
   "cell_type": "code",
   "execution_count": 6,
   "metadata": {},
   "outputs": [
    {
     "name": "stdout",
     "output_type": "stream",
     "text": [
      "GITAM\n",
      "GITAM\n",
      "GITAM\n",
      "GITAM\n",
      "GITAM\n"
     ]
    }
   ],
   "source": [
    "x=0\n",
    "while x<5:\n",
    "    print(\"GITAM\")\n",
    "    x=x+1"
   ]
  },
  {
   "cell_type": "code",
   "execution_count": 7,
   "metadata": {},
   "outputs": [
    {
     "name": "stdout",
     "output_type": "stream",
     "text": [
      "enter number7\n",
      "1234567"
     ]
    }
   ],
   "source": [
    "# print N Natural numbers using while loop\n",
    "# Input = 10\n",
    "#output = 1 2 3.....10\n",
    "n=int(input(\"enter number\"))\n",
    "i=1\n",
    "while i<=n:\n",
    "    print(i,end=\"\")\n",
    "    i=i+1"
   ]
  },
  {
   "cell_type": "code",
   "execution_count": 12,
   "metadata": {},
   "outputs": [
    {
     "name": "stdout",
     "output_type": "stream",
     "text": [
      "enter  a number7\n",
      "0"
     ]
    }
   ],
   "source": [
    "# sum of even number \n",
    "n=int(input(\"enter  a number\"))\n",
    "i=1\n",
    "sum=0\n",
    "while i<=0:\n",
    "    if i%2==0:\n",
    "        sum=sum+i\n",
    "    i=i+1\n",
    "print(sum,end=\"\")"
   ]
  },
  {
   "cell_type": "code",
   "execution_count": 14,
   "metadata": {},
   "outputs": [
    {
     "name": "stdout",
     "output_type": "stream",
     "text": [
      "enter a number463\n",
      "3 6 4 "
     ]
    }
   ],
   "source": [
    "#Number as a Numbers--123\n",
    "#print the digits of given numbers \n",
    "n=int(input(\"enter a number\"))\n",
    "while n!=0 :\n",
    "    r=n % 10\n",
    "    print(r,end =\" \")\n",
    "    n=n // 10"
   ]
  },
  {
   "cell_type": "code",
   "execution_count": null,
   "metadata": {},
   "outputs": [],
   "source": []
  }
 ],
 "metadata": {
  "kernelspec": {
   "display_name": "Python 3",
   "language": "python",
   "name": "python3"
  },
  "language_info": {
   "codemirror_mode": {
    "name": "ipython",
    "version": 3
   },
   "file_extension": ".py",
   "mimetype": "text/x-python",
   "name": "python",
   "nbconvert_exporter": "python",
   "pygments_lexer": "ipython3",
   "version": "3.7.3"
  }
 },
 "nbformat": 4,
 "nbformat_minor": 2
}
